{
 "cells": [
  {
   "cell_type": "markdown",
   "id": "78ac4a9e-b213-4f2f-b805-6b01e0ae22f6",
   "metadata": {},
   "source": [
    "# imports"
   ]
  },
  {
   "cell_type": "code",
   "execution_count": null,
   "id": "ca795339-aeaf-4ee6-8c92-5e040515ebdd",
   "metadata": {},
   "outputs": [],
   "source": [
    "import re\n",
    "import requests\n",
    "import IPython.display\n",
    "\n",
    "from redlines import Redlines"
   ]
  },
  {
   "cell_type": "markdown",
   "id": "e37cd97e-81af-40ae-9f01-e62b2de34d41",
   "metadata": {},
   "source": [
    "# utils"
   ]
  },
  {
   "cell_type": "code",
   "execution_count": null,
   "id": "82ce8f21-2187-4bc7-8efe-04039150bb31",
   "metadata": {},
   "outputs": [],
   "source": [
    "def markdown(s):\n",
    "    display(IPython.display.Markdown(s))"
   ]
  },
  {
   "cell_type": "code",
   "execution_count": null,
   "id": "ca49fec6-6931-48fa-85e3-232aefb750d3",
   "metadata": {},
   "outputs": [],
   "source": [
    "def split_markdown_sections(markdown_text, heading_level=1):\n",
    "    \"\"\"\n",
    "    Split a markdown string into sections based on heading level.\n",
    "    Returns a list of section strings.\n",
    "    \"\"\"\n",
    "    heading_pattern = re.compile(rf'^({\"#\" * heading_level}) (.+)', re.MULTILINE)\n",
    "    matches = list(heading_pattern.finditer(markdown_text))\n",
    "\n",
    "    if not matches:\n",
    "        return [markdown_text]  # No headings, return entire content as one section\n",
    "\n",
    "    sections = []\n",
    "\n",
    "    for i, match in enumerate(matches):\n",
    "        start = match.start()\n",
    "        end = matches[i + 1].start() if i + 1 < len(matches) else len(markdown_text)\n",
    "        section = markdown_text[start:end].strip()\n",
    "        sections.append(section)\n",
    "\n",
    "    return sections\n"
   ]
  },
  {
   "cell_type": "code",
   "execution_count": null,
   "id": "1a476166-ff7b-4e3d-8e23-ed83ff838846",
   "metadata": {},
   "outputs": [],
   "source": [
    "def split_into_paragraphs(section_text):\n",
    "    \"\"\"\n",
    "    Splits a markdown section into paragraphs.\n",
    "    Ignores blank lines inside bullet points, quotes, or code blocks.\n",
    "    Returns a list of paragraph strings.\n",
    "    \"\"\"\n",
    "    lines = section_text.splitlines()\n",
    "    paragraphs = []\n",
    "    buffer = []\n",
    "\n",
    "    for line in lines:\n",
    "        stripped = line.strip()\n",
    "\n",
    "        if stripped:\n",
    "            buffer.append(line)\n",
    "        elif buffer:\n",
    "            # End of a paragraph\n",
    "            paragraphs.append('\\n'.join(buffer).strip())\n",
    "            buffer = []\n",
    "\n",
    "    # Catch any remaining paragraph\n",
    "    if buffer:\n",
    "        paragraphs.append('\\n'.join(buffer).strip())\n",
    "\n",
    "    return paragraphs\n"
   ]
  },
  {
   "cell_type": "code",
   "execution_count": null,
   "id": "a39a4e89-5f44-45a3-9048-3a660a15deae",
   "metadata": {},
   "outputs": [],
   "source": [
    "def get_ollama_models(host=\"http://localhost:11434\"):\n",
    "    \"\"\"\n",
    "    Returns a list of installed Ollama model names.\n",
    "    \"\"\"\n",
    "    try:\n",
    "        response = requests.get(f\"{host}/api/tags\")\n",
    "        response.raise_for_status()\n",
    "        data = response.json()\n",
    "        models = [model[\"name\"] for model in data.get(\"models\", [])]\n",
    "        return models\n",
    "    except requests.RequestException as e:\n",
    "        print(\"Error connecting to Ollama:\", e)\n",
    "        return []"
   ]
  },
  {
   "cell_type": "code",
   "execution_count": null,
   "id": "6b021fc0-baa2-4fbc-82f9-a01eb82b8c29",
   "metadata": {},
   "outputs": [],
   "source": [
    "def edit_text(text, system_prompt=None, model='gemma3:4b-it-qat'):\n",
    "    url = 'http://localhost:11434/api/generate'\n",
    "    if system_prompt is None:\n",
    "        system_prompt = 'You are a professional book editor. Edit the following text for clarity, grammar, and style:'\n",
    "    prompt =     f\"{system_prompt}\\n\\n{text}\",\n",
    "    payload = {\n",
    "        'model': model,\n",
    "        'prompt': f\"You are a professional book editor. Edit the following text for clarity, grammar, and style:\\n\\n{text}\",\n",
    "        'stream': False\n",
    "    }\n",
    "    response = requests.post(url, json=payload)\n",
    "    return response.json()['response']"
   ]
  },
  {
   "cell_type": "code",
   "execution_count": null,
   "id": "3906682a-8f53-4ea9-9d61-1ffe09832ce2",
   "metadata": {},
   "outputs": [],
   "source": [
    "def increase_heading_levels_simple(markdown_text, prefix='#'):\n",
    "    \"\"\"\n",
    "    Adds one '#' to the beginning of every Markdown heading line (e.g., # → ##).\n",
    "    \"\"\"\n",
    "    return re.sub(r'^(#{1,6})\\s', prefix + r'\\1 ', markdown_text, flags=re.MULTILINE)\n"
   ]
  },
  {
   "cell_type": "code",
   "execution_count": null,
   "id": "c796b26f-76f8-4625-b619-5d1ba5bd9a5b",
   "metadata": {},
   "outputs": [],
   "source": [
    "def display_inline_markdown_diff(old_md, new_md):\n",
    "    diff = Redlines(old_md, new_md)\n",
    "    display(IPython.display.Markdown(diff.output_markdown))"
   ]
  },
  {
   "cell_type": "code",
   "execution_count": null,
   "id": "c604ea0b-bf30-4641-933c-0ebdba4860c1",
   "metadata": {},
   "outputs": [],
   "source": [
    "def capture_think_and_rest(text):\n",
    "    # This pattern captures: (1) before <think>, (2) inside <think>, (3) after </think>\n",
    "    match = re.match(r'(.*)<think>(.*?)</think>(.*)', text, flags=re.DOTALL)\n",
    "    if match:\n",
    "        # Combine the parts before and after <think> as 'rest'\n",
    "        rest = match.group(1) + match.group(3)\n",
    "        thinking = match.group(2)\n",
    "        return thinking, rest\n",
    "    else:\n",
    "        # If no <think> block is present\n",
    "        return '', text"
   ]
  },
  {
   "cell_type": "markdown",
   "id": "41a9d597-f113-49b7-bedb-976d3464ce44",
   "metadata": {},
   "source": [
    "# main"
   ]
  },
  {
   "cell_type": "markdown",
   "id": "e417af1b-61fa-4a2a-88e5-a88fae6be231",
   "metadata": {},
   "source": [
    "# ollama_models"
   ]
  },
  {
   "cell_type": "code",
   "execution_count": null,
   "id": "2b31160d-ca90-43f5-b00c-bf30bba73bf2",
   "metadata": {},
   "outputs": [],
   "source": [
    "ollama_models = get_ollama_models()\n",
    "ignore_list = [\n",
    "    'deepseek-r1:32b',\n",
    "    'deepseek-r1:14b'\n",
    "    'gemma3:27b-it-qat',\n",
    "    'gemma3:12b-it-qat',\n",
    "    'gemma3:12b',\n",
    "    'qwen3:14b',\n",
    "]\n",
    "ollama_models = [x for x in ollama_models if x not in ignore_list]\n",
    "ollama_models"
   ]
  },
  {
   "cell_type": "code",
   "execution_count": null,
   "id": "817f69ee-c904-4c52-91e0-131de2838a72",
   "metadata": {},
   "outputs": [],
   "source": [
    "with open('book.md', 'r', encoding='utf-8') as f:\n",
    "    content = f.read()"
   ]
  },
  {
   "cell_type": "code",
   "execution_count": null,
   "id": "e2e508b2-6ca9-4f45-9582-71eb6bee37d3",
   "metadata": {},
   "outputs": [],
   "source": [
    "sections = split_markdown_sections(content)\n",
    "len(sections)"
   ]
  },
  {
   "cell_type": "markdown",
   "id": "50ab55ce-51d4-4920-a53a-9735ce041655",
   "metadata": {},
   "source": [
    "# system_prompt"
   ]
  },
  {
   "cell_type": "code",
   "execution_count": null,
   "id": "64231e77-ab91-4a95-8017-50462b126281",
   "metadata": {},
   "outputs": [],
   "source": [
    "system_prompt = r'''\n",
    "You are an expert editor refining an adult fantasy novel written in British English, set in a modern-day world where gods, monsters, and mythical creatures coexist with humans. The target audience is adults, and the book includes swearing and sexual references, which are acceptable but must remain tasteful and contextually appropriate. The story follows Aisling, an Investigative agent; Eric, who communicates with spirits; and Maeve, a resurrected woman confronting a demon. Your goal is to enhance the manuscript while preserving its tone, style, and narrative voice. Follow these guidelines:\n",
    "\n",
    "1. **Language and Style**:\n",
    "\n",
    "   - Adhere to British English conventions (e.g., \"colour\" not \"color\", \"organise\" not \"organize\").\n",
    "   - Don't insert a dot after a title, (e.g. \"Mr\" not \"Mr.\")\n",
    "2. **Editing Tasks**:\n",
    "\n",
    "   - Correct grammar, punctuation, and spelling per British English standards (e.g., single quotes for dialogue, consistent Oxford comma use).\n",
    "   - Do not comment on or flag issues related to the plot, including inconsistencies or pacing.\n",
    "   - Do not change the tone.\n",
    "\n",
    "3. **Culture and Genre**:\n",
    "\n",
    "   - Respect British cultural nuances, including modern idioms suitable for an adult audience.\n",
    "   - Ensure reimagined folklore creatures and fantasy elements align with the modern setting and feel fresh, avoiding clichéd tropes.\n",
    "\n",
    "4. **Output Format**:\n",
    "\n",
    "   - Provide edited text with changes marked (e.g., \\[original\\] → \\[edited\\]).\n",
    "   - Include a separate section with concise comments explaining major changes or suggestions, excluding any plot-related feedback.\n",
    "   - For significant rewrites, propose revised text with a brief rationale, focusing on style, language, or setting.\n",
    "\n",
    "5. **Additional Instruction**:\n",
    "\n",
    "   - If no manuscript excerpt is provided, do not generate or edit a sample passage. Wait for further input.\n",
    "\n",
    "Begin editing the provided excerpt, aligning with these guidelines. If no excerpt is provided, do not proceed until further instructions are given.\n",
    "'''\n",
    "markdown(system_prompt)"
   ]
  },
  {
   "cell_type": "markdown",
   "id": "c2a12600-8a15-4174-923a-49f8856f0bce",
   "metadata": {},
   "source": [
    "# section"
   ]
  },
  {
   "cell_type": "code",
   "execution_count": null,
   "id": "9ca3c3d1-0810-4ee2-9091-a0b2ba8a9250",
   "metadata": {},
   "outputs": [],
   "source": [
    "section = increase_heading_levels_simple(sections[2])\n",
    "# markdown(section)"
   ]
  },
  {
   "cell_type": "markdown",
   "id": "7459e564-3d58-47f0-9527-43b2f58a7bcc",
   "metadata": {},
   "source": [
    "# iter"
   ]
  },
  {
   "cell_type": "code",
   "execution_count": null,
   "id": "99239e04-00f6-41bb-87fe-78c019468918",
   "metadata": {},
   "outputs": [],
   "source": [
    "queue = []\n",
    "\n",
    "i = 0\n",
    "for section in sections[2:3]:\n",
    "    paragraphs = split_into_paragraphs(section)\n",
    "    for paragraph in paragraphs:\n",
    "        queue.append(paragraph)\n",
    "\n",
    "queue = queue[2:]\n",
    "queue"
   ]
  },
  {
   "cell_type": "code",
   "execution_count": null,
   "id": "5ba6a0b5-b060-4d01-a87d-e5d3f519f1d7",
   "metadata": {},
   "outputs": [],
   "source": [
    "# markdown(system_prompt)"
   ]
  },
  {
   "cell_type": "code",
   "execution_count": null,
   "id": "0be7e727-2803-4f0b-88b4-3403e0cd227c",
   "metadata": {},
   "outputs": [],
   "source": [
    "%%time\n",
    "\n",
    "# markdown(f'## input\\n\\n{increase_heading_levels_simple(section)}')\n",
    "\n",
    "for model in ollama_models[:1]:\n",
    "    markdown(f'## {model=}')\n",
    "\n",
    "    for t in queue:\n",
    "        r = edit_text(t, system_prompt, model)\n",
    "        thinking, rest = capture_think_and_rest(r)\n",
    "        \n",
    "        rr = increase_heading_levels_simple(rest, prefix='##')\n",
    "\n",
    "        if thinking and True:\n",
    "            markdown(f'## thinking\\n\\n{thinking}\\n\\n''## end thinking')\n",
    "            \n",
    "        # markdown('## output')\n",
    "        display_inline_markdown_diff(t, rr)\n",
    "        # markdown('## end output')"
   ]
  }
 ],
 "metadata": {
  "kernelspec": {
   "display_name": "Python 3 (ipykernel)",
   "language": "python",
   "name": "python3"
  },
  "language_info": {
   "codemirror_mode": {
    "name": "ipython",
    "version": 3
   },
   "file_extension": ".py",
   "mimetype": "text/x-python",
   "name": "python",
   "nbconvert_exporter": "python",
   "pygments_lexer": "ipython3",
   "version": "3.13.3"
  }
 },
 "nbformat": 4,
 "nbformat_minor": 5
}
